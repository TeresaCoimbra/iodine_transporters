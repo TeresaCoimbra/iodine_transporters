{
 "cells": [
  {
   "cell_type": "markdown",
   "metadata": {},
   "source": [
    "## Processing FASTA file - ANO1"
   ]
  },
  {
   "cell_type": "markdown",
   "metadata": {},
   "source": [
    "### Remove duplicates"
   ]
  },
  {
   "cell_type": "code",
   "execution_count": 1,
   "metadata": {},
   "outputs": [
    {
     "name": "stdout",
     "output_type": "stream",
     "text": [
      "Run time is 0.0009752233823140462\n"
     ]
    }
   ],
   "source": [
    "from Bio import SeqIO\n",
    "import time\n",
    "\n",
    "start = time.time() \n",
    "file_in = \"sequences_ano1_plants.txt\"\n",
    "file_out = \"sequences_ano1_norep.fasta\"\n",
    "seen = set()\n",
    "records = []\n",
    "\n",
    "for record in SeqIO.parse(file_in, \"fasta\"):  \n",
    "    if record.seq not in seen:\n",
    "        seen.add(record.seq)\n",
    "        records.append(record)\n",
    "\n",
    "\n",
    "#writing to a fasta file\n",
    "SeqIO.write(records, file_out, \"fasta\")\n",
    "end = time.time()\n",
    "\n",
    "print(f\"Run time is {(end- start)/60}\") \n"
   ]
  },
  {
   "cell_type": "markdown",
   "metadata": {},
   "source": [
    "## Species in fasta file"
   ]
  },
  {
   "cell_type": "code",
   "execution_count": 65,
   "metadata": {},
   "outputs": [
    {
     "data": {
      "text/plain": [
       "['Homo sapiens',\n",
       " 'Mus musculus',\n",
       " 'Drosophila melanogaster',\n",
       " 'Chondrus crispus',\n",
       " 'Ectocarpus siliculosus',\n",
       " 'Saccharomyces cerevisiae',\n",
       " 'Caenorhabditis elegans',\n",
       " 'Amborella trichopoda',\n",
       " 'Selaginella moellendorffii',\n",
       " 'Zea mays',\n",
       " 'Nelumbo nucifera',\n",
       " 'Prunus persica',\n",
       " 'Coffea canephora',\n",
       " 'Oryza sativa ssp.japonica',\n",
       " 'Solanum lycopersicum',\n",
       " 'Brassica rapa',\n",
       " 'Arabidopsis lyrata',\n",
       " 'Capsicum annuum',\n",
       " 'Arabidopsis thaliana',\n",
       " 'Glycine max',\n",
       " 'Petunia axilaris',\n",
       " 'Medicago truncatula',\n",
       " 'Vitis vinifera',\n",
       " 'Ananas comosus',\n",
       " 'Triticum aestivum',\n",
       " 'Sorghum bicolor',\n",
       " 'Musa acuminata',\n",
       " 'Zostera marina',\n",
       " 'Oryza sativa ssp.indica',\n",
       " 'Picea glauca',\n",
       " 'Populus trichocarpa',\n",
       " 'Picea abies',\n",
       " 'Hordeum vulgare',\n",
       " 'Brachypodium distachyon',\n",
       " 'Solanun tuberosum']"
      ]
     },
     "execution_count": 65,
     "metadata": {},
     "output_type": "execute_result"
    }
   ],
   "source": [
    "import re\n",
    "infile = \"./seq_ano1_norep_all.fasta\"\n",
    "\n",
    "species = []\n",
    "for record in SeqIO.parse(infile, \"fasta\"):\n",
    "    match = re.findall('\\[([\\w\\s\\.]+)\\]',record.description)\n",
    "    if match[0] not in species: species.append(match[0])\n",
    "species"
   ]
  },
  {
   "cell_type": "code",
   "execution_count": 73,
   "metadata": {},
   "outputs": [],
   "source": [
    "import re\n",
    "infile = \"./seq_ano1_norep_all.fasta\"\n",
    "outfile = \"./corrected.fasta\"\n",
    "#look at header \n",
    "# see if species name is there\n",
    "# replace with only species name \n",
    "species = []\n",
    "fl = open(outfile, 'w')\n",
    "for record in SeqIO.parse(infile, \"fasta\"):  \n",
    "    match = re.findall('\\[([\\w\\s\\.]+)\\]',record.description)\n",
    "    fl.write(\"> \"+match[0]+\"\\n\")\n",
    "    fl.writelines(record.seq)\n",
    "    fl.write(\"\\n\")\n",
    "fl.close()"
   ]
  }
 ],
 "metadata": {
  "kernelspec": {
   "display_name": "Python 3",
   "language": "python",
   "name": "python3"
  },
  "language_info": {
   "codemirror_mode": {
    "name": "ipython",
    "version": 3
   },
   "file_extension": ".py",
   "mimetype": "text/x-python",
   "name": "python",
   "nbconvert_exporter": "python",
   "pygments_lexer": "ipython3",
   "version": "3.8.3"
  }
 },
 "nbformat": 4,
 "nbformat_minor": 4
}
